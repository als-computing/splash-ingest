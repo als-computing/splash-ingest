{
 "cells": [
  {
   "cell_type": "code",
   "execution_count": null,
   "metadata": {},
   "outputs": [],
   "source": [
    "import datetime\n",
    "from importlib import reload\n",
    "import json\n",
    "import os\n",
    "from pprint import pprint\n",
    "import pytz\n",
    "import sys\n",
    "sys.path.append(\"../..\") \n",
    "from pprint import pprint\n",
    "import tempfile\n",
    "from IPython.utils.tempdir import TemporaryWorkingDirectory\n",
    "from IPython.display import FileLink\n",
    "\n",
    "from databroker.core import BlueskyRun\n",
    "from databroker.projector import project_summary_dict, project_xarray\n",
    "import h5py\n",
    "import numpy as np\n",
    "\n",
    "from splash_ingest.docstream import MappedH5Generator, MappingNotFoundError\n",
    "from splash_ingest.model import Mapping\n",
    "\n",
    "mapping_file = './tomo_mapping.json'\n",
    "h5_file = '/home/dylan/data/beamlines/als832/20210421_091523_test3.h5'\n",
    "\n",
    "# read a mapping json into a Mapping object\n",
    "mapping_dict = {}\n",
    "with open(mapping_file) as json_file:\n",
    "   mapping_dict = json.load(json_file)\n",
    "mapping = Mapping(**mapping_dict)\n",
    "\n",
    "\n",
    "with h5py.File(h5_file, 'r') as my_file:\n",
    "    generator = MappedH5Generator(mapping, my_file, \"/tmp\")\n",
    "    run = generator.build_run()\n",
    "\n",
    "for name, doc in run.documents(fill=\"no\"):\n",
    "    if name == \"start\":\n",
    "        pprint(doc)\n",
    "\n",
    "\n"
   ]
  },
  {
   "cell_type": "code",
   "execution_count": null,
   "metadata": {},
   "outputs": [],
   "source": [
    "# projected_metadata, issues = project_summary_dict(run)\n",
    "# projected_metadata\n",
    "projected_data, issues = project_xarray(run)"
   ]
  },
  {
   "cell_type": "code",
   "execution_count": null,
   "metadata": {},
   "outputs": [],
   "source": [
    "projected_data"
   ]
  },
  {
   "cell_type": "code",
   "execution_count": null,
   "metadata": {},
   "outputs": [],
   "source": [
    "run.primary.to_dask()"
   ]
  },
  {
   "cell_type": "code",
   "execution_count": null,
   "metadata": {},
   "outputs": [],
   "source": []
  }
 ],
 "metadata": {
  "kernelspec": {
   "display_name": "Python 3.9.4 64-bit ('ingest': conda)",
   "language": "python",
   "name": "python394jvsc74a57bd0226625992f37cbc86c105e0b047e80f5bb093519bb473e5b49397f4bfbc29a98"
  },
  "language_info": {
   "codemirror_mode": {
    "name": "ipython",
    "version": 3
   },
   "file_extension": ".py",
   "mimetype": "text/x-python",
   "name": "python",
   "nbconvert_exporter": "python",
   "pygments_lexer": "ipython3",
   "version": "3.9.4"
  },
  "metadata": {
   "interpreter": {
    "hash": "226625992f37cbc86c105e0b047e80f5bb093519bb473e5b49397f4bfbc29a98"
   }
  }
 },
 "nbformat": 4,
 "nbformat_minor": 4
}
